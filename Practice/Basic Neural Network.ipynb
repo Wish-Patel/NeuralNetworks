{
 "cells": [
  {
   "cell_type": "code",
   "execution_count": 7,
   "metadata": {},
   "outputs": [],
   "source": [
    "# Import our dependencies\n",
    "import pandas as pd\n",
    "import matplotlib as plt\n",
    "from sklearn.datasets import make_blobs\n",
    "import sklearn as skl\n",
    "import tensorflow as tf"
   ]
  },
  {
   "cell_type": "code",
   "execution_count": 8,
   "metadata": {},
   "outputs": [
    {
     "data": {
      "text/plain": [
       "<matplotlib.axes._subplots.AxesSubplot at 0x1b15eda1508>"
      ]
     },
     "execution_count": 8,
     "metadata": {},
     "output_type": "execute_result"
    },
    {
     "data": {
      "image/png": "[encoded data removed]",
      "text/plain": [
       "<Figure size 432x288 with 2 Axes>"
      ]
     },
     "metadata": {
      "needs_background": "light"
     },
     "output_type": "display_data"
    }
   ],
   "source": [
    "# Generate dummy dataset\n",
    "X, y = make_blobs(n_samples=1000, centers=2, n_features=2, random_state=78)\n",
    "\n",
    "# Creating a DataFrame with the dummy data\n",
    "df = pd.DataFrame(X, columns=[\"Feature 1\", \"Feature 2\"])\n",
    "df[\"Target\"] = y\n",
    "\n",
    "# Plotting the dummy data\n",
    "df.plot.scatter(x=\"Feature 1\", y=\"Feature 2\", c=\"Target\", colormap=\"winter\")"
   ]
  },
  {
   "cell_type": "code",
   "execution_count": 9,
   "metadata": {},
   "outputs": [],
   "source": [
    "# Use sklearn to split dataset\n",
    "from sklearn.model_selection import train_test_split\n",
    "X_train, X_test, y_train, y_test = train_test_split(X, y, random_state=78)"
   ]
  },
  {
   "cell_type": "code",
   "execution_count": 10,
   "metadata": {},
   "outputs": [],
   "source": [
    "# Create scaler instance\n",
    "X_scaler = skl.preprocessing.StandardScaler()\n",
    "\n",
    "# Fit the scaler\n",
    "X_scaler.fit(X_train)\n",
    "\n",
    "# Scale the data\n",
    "X_train_scaled = X_scaler.transform(X_train)\n",
    "X_test_scaled = X_scaler.transform(X_test)"
   ]
  },
  {
   "cell_type": "code",
   "execution_count": 25,
   "metadata": {},
   "outputs": [],
   "source": [
    "from tensorflow import keras"
   ]
  },
  {
   "cell_type": "code",
   "execution_count": 20,
   "metadata": {},
   "outputs": [],
   "source": [
    "from tensorflow.keras import Sequential"
   ]
  },
  {
   "cell_type": "code",
   "execution_count": 22,
   "metadata": {},
   "outputs": [],
   "source": [
    "# Create the Keras Sequential model\n",
    "nn_model = Sequential()"
   ]
  },
  {
   "cell_type": "code",
   "execution_count": 28,
   "metadata": {},
   "outputs": [],
   "source": [
    "# Add our first Dense layer, including the input layer\n",
    "nn_model.add(keras.layers.Dense(units=1, activation=\"relu\", input_dim=2))"
   ]
  },
  {
   "cell_type": "code",
   "execution_count": 29,
   "metadata": {},
   "outputs": [],
   "source": [
    "# Add the output layer that uses a probability activation function\n",
    "nn_model.add(keras.layers.Dense(units=1, activation=\"sigmoid\"))"
   ]
  },
  {
   "cell_type": "code",
   "execution_count": 30,
   "metadata": {
    "scrolled": true
   },
   "outputs": [
    {
     "name": "stdout",
     "output_type": "stream",
     "text": [
      "Model: \"sequential\"\n",
      "_________________________________________________________________\n",
      "Layer (type)                 Output Shape              Param #   \n",
      "=================================================================\n",
      "dense (Dense)                (None, 1)                 3         \n",
      "_________________________________________________________________\n",
      "dense_1 (Dense)              (None, 1)                 2         \n",
      "=================================================================\n",
      "Total params: 5\n",
      "Trainable params: 5\n",
      "Non-trainable params: 0\n",
      "_________________________________________________________________\n"
     ]
    }
   ],
   "source": [
    "# Check the structure of the Sequential model\n",
    "nn_model.summary()"
   ]
  },
  {
   "cell_type": "code",
   "execution_count": 31,
   "metadata": {},
   "outputs": [],
   "source": [
    "# Compile the Sequential model together and customize metrics\n",
    "nn_model.compile(loss=\"binary_crossentropy\", optimizer=\"adam\", metrics=[\"accuracy\"])"
   ]
  },
  {
   "cell_type": "code",
   "execution_count": 32,
   "metadata": {},
   "outputs": [
    {
     "name": "stdout",
     "output_type": "stream",
     "text": [
      "Train on 750 samples\n",
      "Epoch 1/100\n",
      "750/750 [==============================] - 4s 5ms/sample - loss: 0.6952 - accuracy: 0.4947\n",
      "Epoch 2/100\n",
      "750/750 [==============================] - 0s 33us/sample - loss: 0.6939 - accuracy: 0.5067\n",
      "Epoch 3/100\n",
      "750/750 [==============================] - 0s 39us/sample - loss: 0.6932 - accuracy: 0.5080\n",
      "Epoch 4/100\n",
      "750/750 [==============================] - 0s 56us/sample - loss: 0.6926 - accuracy: 0.5640\n",
      "Epoch 5/100\n",
      "750/750 [==============================] - 0s 40us/sample - loss: 0.6920 - accuracy: 0.5653\n",
      "Epoch 6/100\n",
      "750/750 [==============================] - 0s 65us/sample - loss: 0.6907 - accuracy: 0.5960\n",
      "Epoch 7/100\n",
      "750/750 [==============================] - 0s 35us/sample - loss: 0.6884 - accuracy: 0.6213\n",
      "Epoch 8/100\n",
      "750/750 [==============================] - 0s 37us/sample - loss: 0.6846 - accuracy: 0.6773\n",
      "Epoch 9/100\n",
      "750/750 [==============================] - 0s 86us/sample - loss: 0.6788 - accuracy: 0.7373\n",
      "Epoch 10/100\n",
      "750/750 [==============================] - ETA: 0s - loss: 0.6843 - accuracy: 0.65 - 0s 37us/sample - loss: 0.6706 - accuracy: 0.7787\n",
      "Epoch 11/100\n",
      "750/750 [==============================] - 0s 39us/sample - loss: 0.6598 - accuracy: 0.8187\n",
      "Epoch 12/100\n",
      "750/750 [==============================] - 0s 40us/sample - loss: 0.6462 - accuracy: 0.8747\n",
      "Epoch 13/100\n",
      "750/750 [==============================] - 0s 40us/sample - loss: 0.6300 - accuracy: 0.9053\n",
      "Epoch 14/100\n",
      "750/750 [==============================] - 0s 36us/sample - loss: 0.6116 - accuracy: 0.9360\n",
      "Epoch 15/100\n",
      "750/750 [==============================] - 0s 41us/sample - loss: 0.5921 - accuracy: 0.9573\n",
      "Epoch 16/100\n",
      "750/750 [==============================] - 0s 41us/sample - loss: 0.5719 - accuracy: 0.9720\n",
      "Epoch 17/100\n",
      "750/750 [==============================] - 0s 40us/sample - loss: 0.5513 - accuracy: 0.9800\n",
      "Epoch 18/100\n",
      "750/750 [==============================] - 0s 37us/sample - loss: 0.5309 - accuracy: 0.9840\n",
      "Epoch 19/100\n",
      "750/750 [==============================] - 0s 37us/sample - loss: 0.5107 - accuracy: 0.9933\n",
      "Epoch 20/100\n",
      "750/750 [==============================] - 0s 39us/sample - loss: 0.4912 - accuracy: 0.9947\n",
      "Epoch 21/100\n",
      "750/750 [==============================] - 0s 37us/sample - loss: 0.4720 - accuracy: 0.9987\n",
      "Epoch 22/100\n",
      "750/750 [==============================] - 0s 41us/sample - loss: 0.4537 - accuracy: 1.0000\n",
      "Epoch 23/100\n",
      "750/750 [==============================] - 0s 36us/sample - loss: 0.4361 - accuracy: 1.0000\n",
      "Epoch 24/100\n",
      "750/750 [==============================] - 0s 39us/sample - loss: 0.4194 - accuracy: 1.0000\n",
      "Epoch 25/100\n",
      "750/750 [==============================] - 0s 37us/sample - loss: 0.4036 - accuracy: 1.0000\n",
      "Epoch 26/100\n",
      "750/750 [==============================] - 0s 41us/sample - loss: 0.3885 - accuracy: 1.0000\n",
      "Epoch 27/100\n",
      "750/750 [==============================] - 0s 39us/sample - loss: 0.3743 - accuracy: 1.0000\n",
      "Epoch 28/100\n",
      "750/750 [==============================] - 0s 39us/sample - loss: 0.3607 - accuracy: 1.0000\n",
      "Epoch 29/100\n",
      "750/750 [==============================] - 0s 40us/sample - loss: 0.3480 - accuracy: 1.0000\n",
      "Epoch 30/100\n",
      "750/750 [==============================] - 0s 39us/sample - loss: 0.3359 - accuracy: 1.0000\n",
      "Epoch 31/100\n",
      "750/750 [==============================] - 0s 38us/sample - loss: 0.3246 - accuracy: 1.0000\n",
      "Epoch 32/100\n",
      "750/750 [==============================] - 0s 35us/sample - loss: 0.3138 - accuracy: 1.0000\n",
      "Epoch 33/100\n",
      "750/750 [==============================] - 0s 43us/sample - loss: 0.3036 - accuracy: 1.0000\n",
      "Epoch 34/100\n",
      "750/750 [==============================] - 0s 39us/sample - loss: 0.2940 - accuracy: 1.0000\n",
      "Epoch 35/100\n",
      "750/750 [==============================] - 0s 39us/sample - loss: 0.2848 - accuracy: 1.0000\n",
      "Epoch 36/100\n",
      "750/750 [==============================] - 0s 43us/sample - loss: 0.2762 - accuracy: 1.0000\n",
      "Epoch 37/100\n",
      "750/750 [==============================] - 0s 37us/sample - loss: 0.2680 - accuracy: 1.0000\n",
      "Epoch 38/100\n",
      "750/750 [==============================] - 0s 41us/sample - loss: 0.2602 - accuracy: 1.0000\n",
      "Epoch 39/100\n",
      "750/750 [==============================] - 0s 39us/sample - loss: 0.2528 - accuracy: 1.0000\n",
      "Epoch 40/100\n",
      "750/750 [==============================] - ETA: 0s - loss: 0.2800 - accuracy: 1.00 - 0s 39us/sample - loss: 0.2457 - accuracy: 1.0000\n",
      "Epoch 41/100\n",
      "750/750 [==============================] - 0s 41us/sample - loss: 0.2390 - accuracy: 1.0000\n",
      "Epoch 42/100\n",
      "750/750 [==============================] - 0s 39us/sample - loss: 0.2326 - accuracy: 1.0000\n",
      "Epoch 43/100\n",
      "750/750 [==============================] - 0s 43us/sample - loss: 0.2264 - accuracy: 1.0000\n",
      "Epoch 44/100\n",
      "750/750 [==============================] - 0s 37us/sample - loss: 0.2206 - accuracy: 1.0000\n",
      "Epoch 45/100\n",
      "750/750 [==============================] - 0s 40us/sample - loss: 0.2150 - accuracy: 1.0000\n",
      "Epoch 46/100\n",
      "750/750 [==============================] - 0s 49us/sample - loss: 0.2096 - accuracy: 1.0000\n",
      "Epoch 47/100\n",
      "750/750 [==============================] - 0s 39us/sample - loss: 0.2044 - accuracy: 1.0000\n",
      "Epoch 48/100\n",
      "750/750 [==============================] - 0s 39us/sample - loss: 0.1995 - accuracy: 1.0000\n",
      "Epoch 49/100\n",
      "750/750 [==============================] - 0s 40us/sample - loss: 0.1947 - accuracy: 1.0000\n",
      "Epoch 50/100\n",
      "750/750 [==============================] - 0s 39us/sample - loss: 0.1901 - accuracy: 1.0000\n",
      "Epoch 51/100\n",
      "750/750 [==============================] - 0s 40us/sample - loss: 0.1857 - accuracy: 1.0000\n",
      "Epoch 52/100\n",
      "750/750 [==============================] - 0s 39us/sample - loss: 0.1815 - accuracy: 1.0000\n",
      "Epoch 53/100\n",
      "750/750 [==============================] - 0s 36us/sample - loss: 0.1775 - accuracy: 1.0000\n",
      "Epoch 54/100\n",
      "750/750 [==============================] - 0s 40us/sample - loss: 0.1735 - accuracy: 1.0000\n",
      "Epoch 55/100\n",
      "750/750 [==============================] - 0s 40us/sample - loss: 0.1698 - accuracy: 1.0000\n",
      "Epoch 56/100\n",
      "750/750 [==============================] - 0s 37us/sample - loss: 0.1661 - accuracy: 1.0000\n",
      "Epoch 57/100\n",
      "750/750 [==============================] - 0s 36us/sample - loss: 0.1626 - accuracy: 1.0000\n",
      "Epoch 58/100\n",
      "750/750 [==============================] - 0s 35us/sample - loss: 0.1592 - accuracy: 1.0000\n",
      "Epoch 59/100\n",
      "750/750 [==============================] - 0s 36us/sample - loss: 0.1558 - accuracy: 1.0000\n",
      "Epoch 60/100\n",
      "750/750 [==============================] - 0s 36us/sample - loss: 0.1526 - accuracy: 1.0000\n",
      "Epoch 61/100\n",
      "750/750 [==============================] - ETA: 0s - loss: 0.1491 - accuracy: 1.00 - 0s 40us/sample - loss: 0.1495 - accuracy: 1.0000\n",
      "Epoch 62/100\n",
      "750/750 [==============================] - 0s 40us/sample - loss: 0.1465 - accuracy: 1.0000\n",
      "Epoch 63/100\n",
      "750/750 [==============================] - 0s 35us/sample - loss: 0.1436 - accuracy: 1.0000\n",
      "Epoch 64/100\n",
      "750/750 [==============================] - 0s 35us/sample - loss: 0.1408 - accuracy: 1.0000\n",
      "Epoch 65/100\n",
      "750/750 [==============================] - 0s 36us/sample - loss: 0.1381 - accuracy: 1.0000\n",
      "Epoch 66/100\n",
      "750/750 [==============================] - 0s 39us/sample - loss: 0.1354 - accuracy: 1.0000\n",
      "Epoch 67/100\n",
      "750/750 [==============================] - 0s 41us/sample - loss: 0.1328 - accuracy: 1.0000\n",
      "Epoch 68/100\n",
      "750/750 [==============================] - 0s 43us/sample - loss: 0.1303 - accuracy: 1.0000\n",
      "Epoch 69/100\n",
      "750/750 [==============================] - 0s 41us/sample - loss: 0.1279 - accuracy: 1.0000\n",
      "Epoch 70/100\n",
      "750/750 [==============================] - 0s 41us/sample - loss: 0.1255 - accuracy: 1.0000\n",
      "Epoch 71/100\n",
      "750/750 [==============================] - 0s 37us/sample - loss: 0.1232 - accuracy: 1.0000\n",
      "Epoch 72/100\n",
      "750/750 [==============================] - 0s 33us/sample - loss: 0.1209 - accuracy: 1.0000\n",
      "Epoch 73/100\n",
      "750/750 [==============================] - 0s 37us/sample - loss: 0.1188 - accuracy: 1.0000\n",
      "Epoch 74/100\n",
      "750/750 [==============================] - 0s 37us/sample - loss: 0.1166 - accuracy: 1.0000\n",
      "Epoch 75/100\n",
      "750/750 [==============================] - 0s 40us/sample - loss: 0.1146 - accuracy: 1.0000\n",
      "Epoch 76/100\n",
      "750/750 [==============================] - 0s 37us/sample - loss: 0.1125 - accuracy: 1.0000\n",
      "Epoch 77/100\n"
     ]
    },
    {
     "name": "stdout",
     "output_type": "stream",
     "text": [
      "750/750 [==============================] - 0s 37us/sample - loss: 0.1106 - accuracy: 1.0000\n",
      "Epoch 78/100\n",
      "750/750 [==============================] - 0s 47us/sample - loss: 0.1086 - accuracy: 1.0000\n",
      "Epoch 79/100\n",
      "750/750 [==============================] - 0s 48us/sample - loss: 0.1067 - accuracy: 1.0000\n",
      "Epoch 80/100\n",
      "750/750 [==============================] - 0s 44us/sample - loss: 0.1049 - accuracy: 1.0000\n",
      "Epoch 81/100\n",
      "750/750 [==============================] - 0s 47us/sample - loss: 0.1031 - accuracy: 1.0000\n",
      "Epoch 82/100\n",
      "750/750 [==============================] - 0s 37us/sample - loss: 0.1014 - accuracy: 1.0000\n",
      "Epoch 83/100\n",
      "750/750 [==============================] - 0s 32us/sample - loss: 0.0997 - accuracy: 1.0000\n",
      "Epoch 84/100\n",
      "750/750 [==============================] - 0s 36us/sample - loss: 0.0980 - accuracy: 1.0000\n",
      "Epoch 85/100\n",
      "750/750 [==============================] - 0s 37us/sample - loss: 0.0964 - accuracy: 1.0000\n",
      "Epoch 86/100\n",
      "750/750 [==============================] - 0s 33us/sample - loss: 0.0949 - accuracy: 1.0000\n",
      "Epoch 87/100\n",
      "750/750 [==============================] - 0s 35us/sample - loss: 0.0933 - accuracy: 1.0000\n",
      "Epoch 88/100\n",
      "750/750 [==============================] - 0s 35us/sample - loss: 0.0918 - accuracy: 1.0000\n",
      "Epoch 89/100\n",
      "750/750 [==============================] - 0s 33us/sample - loss: 0.0903 - accuracy: 1.0000\n",
      "Epoch 90/100\n",
      "750/750 [==============================] - 0s 36us/sample - loss: 0.0889 - accuracy: 1.0000\n",
      "Epoch 91/100\n",
      "750/750 [==============================] - 0s 35us/sample - loss: 0.0875 - accuracy: 1.0000\n",
      "Epoch 92/100\n",
      "750/750 [==============================] - 0s 37us/sample - loss: 0.0861 - accuracy: 1.0000\n",
      "Epoch 93/100\n",
      "750/750 [==============================] - 0s 41us/sample - loss: 0.0848 - accuracy: 1.0000\n",
      "Epoch 94/100\n",
      "750/750 [==============================] - 0s 41us/sample - loss: 0.0834 - accuracy: 1.0000\n",
      "Epoch 95/100\n",
      "750/750 [==============================] - 0s 43us/sample - loss: 0.0821 - accuracy: 1.0000\n",
      "Epoch 96/100\n",
      "750/750 [==============================] - 0s 43us/sample - loss: 0.0809 - accuracy: 1.0000\n",
      "Epoch 97/100\n",
      "750/750 [==============================] - 0s 44us/sample - loss: 0.0796 - accuracy: 1.0000\n",
      "Epoch 98/100\n",
      "750/750 [==============================] - 0s 41us/sample - loss: 0.0784 - accuracy: 1.0000\n",
      "Epoch 99/100\n",
      "750/750 [==============================] - 0s 40us/sample - loss: 0.0772 - accuracy: 1.0000\n",
      "Epoch 100/100\n",
      "750/750 [==============================] - 0s 37us/sample - loss: 0.0760 - accuracy: 1.0000\n"
     ]
    }
   ],
   "source": [
    "# Fit the model to the training data\n",
    "fit_model = nn_model.fit(X_train_scaled, y_train, epochs=100)"
   ]
  },
  {
   "cell_type": "code",
   "execution_count": 33,
   "metadata": {
    "scrolled": true
   },
   "outputs": [
    {
     "data": {
      "text/plain": [
       "<matplotlib.axes._subplots.AxesSubplot at 0x1b15ee70d48>"
      ]
     },
     "execution_count": 33,
     "metadata": {},
     "output_type": "execute_result"
    },
    {
     "data": {
      "image/png": "[encoded data removed]",
      "text/plain": [
       "<Figure size 432x288 with 1 Axes>"
      ]
     },
     "metadata": {
      "needs_background": "light"
     },
     "output_type": "display_data"
    }
   ],
   "source": [
    "# Create a DataFrame containing training history\n",
    "history_df = pd.DataFrame(fit_model.history, index=range(1,len(fit_model.history[\"loss\"])+1))\n",
    "\n",
    "# Plot the loss\n",
    "history_df.plot(y=\"loss\")"
   ]
  },
  {
   "cell_type": "code",
   "execution_count": 34,
   "metadata": {},
   "outputs": [
    {
     "data": {
      "text/plain": [
       "<matplotlib.axes._subplots.AxesSubplot at 0x1b166365448>"
      ]
     },
     "execution_count": 34,
     "metadata": {},
     "output_type": "execute_result"
    },
    {
     "data": {
      "image/png": "[encoded data removed]",
      "text/plain": [
       "<Figure size 432x288 with 1 Axes>"
      ]
     },
     "metadata": {
      "needs_background": "light"
     },
     "output_type": "display_data"
    }
   ],
   "source": [
    "# Plot the accuracy\n",
    "history_df.plot(y=\"accuracy\")"
   ]
  },
  {
   "cell_type": "code",
   "execution_count": 35,
   "metadata": {
    "scrolled": true
   },
   "outputs": [
    {
     "name": "stdout",
     "output_type": "stream",
     "text": [
      "250/250 - 0s - loss: 0.0714 - accuracy: 1.0000\n",
      "Loss: 0.07136259818077087, Accuracy: 1.0\n"
     ]
    }
   ],
   "source": [
    "# Evaluate the model using the test data\n",
    "model_loss, model_accuracy = nn_model.evaluate(X_test_scaled,y_test,verbose=2)\n",
    "print(f\"Loss: {model_loss}, Accuracy: {model_accuracy}\")"
   ]
  },
  {
   "cell_type": "code",
   "execution_count": 36,
   "metadata": {
    "scrolled": true
   },
   "outputs": [
    {
     "data": {
      "text/plain": [
       "array([[0],\n",
       "       [1],\n",
       "       [0],\n",
       "       [1],\n",
       "       [0],\n",
       "       [0],\n",
       "       [1],\n",
       "       [1],\n",
       "       [1],\n",
       "       [0]])"
      ]
     },
     "execution_count": 36,
     "metadata": {},
     "output_type": "execute_result"
    }
   ],
   "source": [
    "# Predict the classification of a new set of blob data\n",
    "new_X, new_Y = make_blobs(n_samples=10, centers=2, n_features=2, random_state=78)\n",
    "\n",
    "nn_model.predict_classes(new_X)"
   ]
  },
  {
   "cell_type": "code",
   "execution_count": 37,
   "metadata": {},
   "outputs": [
    {
     "data": {
      "text/plain": [
       "<matplotlib.axes._subplots.AxesSubplot at 0x1b1663c06c8>"
      ]
     },
     "execution_count": 37,
     "metadata": {},
     "output_type": "execute_result"
    },
    {
     "data": {
      "image/png": "[encoded data removed]",
      "text/plain": [
       "<Figure size 432x288 with 2 Axes>"
      ]
     },
     "metadata": {
      "needs_background": "light"
     },
     "output_type": "display_data"
    }
   ],
   "source": [
    "from sklearn.datasets import make_moons\n",
    "\n",
    "# Creating dummy nonlinear data\n",
    "X_moons, y_moons = make_moons(n_samples=1000, noise=0.08, random_state=78)\n",
    "\n",
    "# Transforming y_moons to a vertical vector\n",
    "y_moons = y_moons.reshape(-1, 1)\n",
    "\n",
    "# Creating a DataFrame to plot the nonlinear dummy data\n",
    "df_moons = pd.DataFrame(X_moons, columns=[\"Feature 1\", \"Feature 2\"])\n",
    "df_moons[\"Target\"] = y_moons\n",
    "\n",
    "# Plot the nonlinear dummy data\n",
    "df_moons.plot.scatter(x=\"Feature 1\",y=\"Feature 2\", c=\"Target\",colormap=\"winter\")"
   ]
  },
  {
   "cell_type": "code",
   "execution_count": 38,
   "metadata": {},
   "outputs": [],
   "source": [
    "# Create training and testing sets\n",
    "X_moon_train, X_moon_test, y_moon_train, y_moon_test = train_test_split(\n",
    "    X_moons, y_moons, random_state=78\n",
    ")\n",
    "\n",
    "# Create the scaler instance\n",
    "X_moon_scaler = skl.preprocessing.StandardScaler()\n",
    "\n",
    "# Fit the scaler\n",
    "X_moon_scaler.fit(X_moon_train)\n",
    "\n",
    "# Scale the data\n",
    "X_moon_train_scaled = X_moon_scaler.transform(X_moon_train)\n",
    "X_moon_test_scaled = X_moon_scaler.transform(X_moon_test)"
   ]
  },
  {
   "cell_type": "code",
   "execution_count": 39,
   "metadata": {
    "scrolled": false
   },
   "outputs": [
    {
     "name": "stdout",
     "output_type": "stream",
     "text": [
      "Train on 750 samples\n",
      "Epoch 1/100\n",
      "750/750 [==============================] - 0s 408us/sample - loss: 0.7630 - accuracy: 0.6240\n",
      "Epoch 2/100\n",
      "750/750 [==============================] - 0s 43us/sample - loss: 0.6838 - accuracy: 0.6480\n",
      "Epoch 3/100\n",
      "750/750 [==============================] - 0s 35us/sample - loss: 0.6301 - accuracy: 0.6653\n",
      "Epoch 4/100\n",
      "750/750 [==============================] - 0s 37us/sample - loss: 0.5902 - accuracy: 0.6773\n",
      "Epoch 5/100\n",
      "750/750 [==============================] - 0s 39us/sample - loss: 0.5621 - accuracy: 0.6880\n",
      "Epoch 6/100\n",
      "750/750 [==============================] - 0s 39us/sample - loss: 0.5399 - accuracy: 0.6973\n",
      "Epoch 7/100\n",
      "750/750 [==============================] - 0s 37us/sample - loss: 0.5216 - accuracy: 0.7040\n",
      "Epoch 8/100\n",
      "750/750 [==============================] - 0s 36us/sample - loss: 0.5070 - accuracy: 0.7093\n",
      "Epoch 9/100\n",
      "750/750 [==============================] - 0s 37us/sample - loss: 0.4937 - accuracy: 0.7160\n",
      "Epoch 10/100\n",
      "750/750 [==============================] - 0s 40us/sample - loss: 0.4827 - accuracy: 0.7213\n",
      "Epoch 11/100\n",
      "750/750 [==============================] - 0s 39us/sample - loss: 0.4727 - accuracy: 0.7227\n",
      "Epoch 12/100\n",
      "750/750 [==============================] - 0s 36us/sample - loss: 0.4639 - accuracy: 0.7307\n",
      "Epoch 13/100\n",
      "750/750 [==============================] - 0s 37us/sample - loss: 0.4558 - accuracy: 0.7440\n",
      "Epoch 14/100\n",
      "750/750 [==============================] - 0s 37us/sample - loss: 0.4481 - accuracy: 0.7480\n",
      "Epoch 15/100\n",
      "750/750 [==============================] - 0s 37us/sample - loss: 0.4410 - accuracy: 0.7520\n",
      "Epoch 16/100\n",
      "750/750 [==============================] - 0s 33us/sample - loss: 0.4343 - accuracy: 0.7547\n",
      "Epoch 17/100\n",
      "750/750 [==============================] - 0s 40us/sample - loss: 0.4281 - accuracy: 0.7600\n",
      "Epoch 18/100\n",
      "750/750 [==============================] - 0s 36us/sample - loss: 0.4220 - accuracy: 0.7613\n",
      "Epoch 19/100\n",
      "750/750 [==============================] - 0s 43us/sample - loss: 0.4164 - accuracy: 0.7667\n",
      "Epoch 20/100\n",
      "750/750 [==============================] - 0s 43us/sample - loss: 0.4108 - accuracy: 0.7693\n",
      "Epoch 21/100\n",
      "750/750 [==============================] - 0s 43us/sample - loss: 0.4058 - accuracy: 0.7773\n",
      "Epoch 22/100\n",
      "750/750 [==============================] - 0s 44us/sample - loss: 0.4007 - accuracy: 0.7827\n",
      "Epoch 23/100\n",
      "750/750 [==============================] - 0s 35us/sample - loss: 0.3958 - accuracy: 0.7840\n",
      "Epoch 24/100\n",
      "750/750 [==============================] - 0s 33us/sample - loss: 0.3912 - accuracy: 0.7880\n",
      "Epoch 25/100\n",
      "750/750 [==============================] - 0s 41us/sample - loss: 0.3867 - accuracy: 0.7907\n",
      "Epoch 26/100\n",
      "750/750 [==============================] - 0s 37us/sample - loss: 0.3823 - accuracy: 0.7920\n",
      "Epoch 27/100\n",
      "750/750 [==============================] - 0s 40us/sample - loss: 0.3782 - accuracy: 0.7920\n",
      "Epoch 28/100\n",
      "750/750 [==============================] - 0s 40us/sample - loss: 0.3739 - accuracy: 0.7933\n",
      "Epoch 29/100\n",
      "750/750 [==============================] - 0s 41us/sample - loss: 0.3700 - accuracy: 0.7947\n",
      "Epoch 30/100\n",
      "750/750 [==============================] - 0s 40us/sample - loss: 0.3662 - accuracy: 0.8013\n",
      "Epoch 31/100\n",
      "750/750 [==============================] - 0s 40us/sample - loss: 0.3624 - accuracy: 0.8040\n",
      "Epoch 32/100\n",
      "750/750 [==============================] - 0s 44us/sample - loss: 0.3586 - accuracy: 0.8053\n",
      "Epoch 33/100\n",
      "750/750 [==============================] - 0s 39us/sample - loss: 0.3551 - accuracy: 0.8067\n",
      "Epoch 34/100\n",
      "750/750 [==============================] - 0s 37us/sample - loss: 0.3515 - accuracy: 0.8093\n",
      "Epoch 35/100\n",
      "750/750 [==============================] - 0s 44us/sample - loss: 0.3480 - accuracy: 0.8147\n",
      "Epoch 36/100\n",
      "750/750 [==============================] - 0s 43us/sample - loss: 0.3446 - accuracy: 0.8160\n",
      "Epoch 37/100\n",
      "750/750 [==============================] - 0s 41us/sample - loss: 0.3413 - accuracy: 0.8200\n",
      "Epoch 38/100\n",
      "750/750 [==============================] - 0s 40us/sample - loss: 0.3380 - accuracy: 0.8213\n",
      "Epoch 39/100\n",
      "750/750 [==============================] - 0s 40us/sample - loss: 0.3350 - accuracy: 0.8267\n",
      "Epoch 40/100\n",
      "750/750 [==============================] - 0s 40us/sample - loss: 0.3320 - accuracy: 0.8293\n",
      "Epoch 41/100\n",
      "750/750 [==============================] - 0s 41us/sample - loss: 0.3291 - accuracy: 0.8320\n",
      "Epoch 42/100\n",
      "750/750 [==============================] - 0s 44us/sample - loss: 0.3263 - accuracy: 0.8320\n",
      "Epoch 43/100\n",
      "750/750 [==============================] - 0s 40us/sample - loss: 0.3235 - accuracy: 0.8347\n",
      "Epoch 44/100\n",
      "750/750 [==============================] - 0s 36us/sample - loss: 0.3210 - accuracy: 0.8360\n",
      "Epoch 45/100\n",
      "750/750 [==============================] - 0s 37us/sample - loss: 0.3185 - accuracy: 0.8400\n",
      "Epoch 46/100\n",
      "750/750 [==============================] - 0s 40us/sample - loss: 0.3161 - accuracy: 0.8440\n",
      "Epoch 47/100\n",
      "750/750 [==============================] - 0s 40us/sample - loss: 0.3137 - accuracy: 0.8453\n",
      "Epoch 48/100\n",
      "750/750 [==============================] - 0s 40us/sample - loss: 0.3114 - accuracy: 0.8467\n",
      "Epoch 49/100\n",
      "750/750 [==============================] - 0s 41us/sample - loss: 0.3093 - accuracy: 0.8467\n",
      "Epoch 50/100\n",
      "750/750 [==============================] - 0s 43us/sample - loss: 0.3071 - accuracy: 0.8493\n",
      "Epoch 51/100\n",
      "750/750 [==============================] - 0s 41us/sample - loss: 0.3052 - accuracy: 0.8520\n",
      "Epoch 52/100\n",
      "750/750 [==============================] - 0s 36us/sample - loss: 0.3031 - accuracy: 0.8533\n",
      "Epoch 53/100\n",
      "750/750 [==============================] - 0s 41us/sample - loss: 0.3013 - accuracy: 0.8587\n",
      "Epoch 54/100\n",
      "750/750 [==============================] - 0s 35us/sample - loss: 0.2995 - accuracy: 0.8587\n",
      "Epoch 55/100\n",
      "750/750 [==============================] - 0s 36us/sample - loss: 0.2978 - accuracy: 0.8600\n",
      "Epoch 56/100\n",
      "750/750 [==============================] - 0s 40us/sample - loss: 0.2961 - accuracy: 0.8627\n",
      "Epoch 57/100\n",
      "750/750 [==============================] - 0s 36us/sample - loss: 0.2947 - accuracy: 0.8640\n",
      "Epoch 58/100\n",
      "750/750 [==============================] - 0s 40us/sample - loss: 0.2930 - accuracy: 0.8667\n",
      "Epoch 59/100\n",
      "750/750 [==============================] - 0s 40us/sample - loss: 0.2915 - accuracy: 0.8680\n",
      "Epoch 60/100\n",
      "750/750 [==============================] - 0s 37us/sample - loss: 0.2901 - accuracy: 0.8680\n",
      "Epoch 61/100\n",
      "750/750 [==============================] - 0s 39us/sample - loss: 0.2888 - accuracy: 0.8680\n",
      "Epoch 62/100\n",
      "750/750 [==============================] - 0s 40us/sample - loss: 0.2874 - accuracy: 0.8680\n",
      "Epoch 63/100\n",
      "750/750 [==============================] - 0s 36us/sample - loss: 0.2862 - accuracy: 0.8693\n",
      "Epoch 64/100\n",
      "750/750 [==============================] - 0s 37us/sample - loss: 0.2850 - accuracy: 0.8707\n",
      "Epoch 65/100\n",
      "750/750 [==============================] - 0s 43us/sample - loss: 0.2837 - accuracy: 0.8707\n",
      "Epoch 66/100\n",
      "750/750 [==============================] - 0s 35us/sample - loss: 0.2827 - accuracy: 0.8707\n",
      "Epoch 67/100\n",
      "750/750 [==============================] - 0s 39us/sample - loss: 0.2816 - accuracy: 0.8707\n",
      "Epoch 68/100\n",
      "750/750 [==============================] - 0s 41us/sample - loss: 0.2805 - accuracy: 0.8707\n",
      "Epoch 69/100\n",
      "750/750 [==============================] - 0s 39us/sample - loss: 0.2795 - accuracy: 0.8707\n",
      "Epoch 70/100\n",
      "750/750 [==============================] - 0s 37us/sample - loss: 0.2786 - accuracy: 0.8720\n",
      "Epoch 71/100\n",
      "750/750 [==============================] - 0s 39us/sample - loss: 0.2777 - accuracy: 0.8733\n",
      "Epoch 72/100\n",
      "750/750 [==============================] - 0s 39us/sample - loss: 0.2767 - accuracy: 0.8733\n",
      "Epoch 73/100\n",
      "750/750 [==============================] - 0s 41us/sample - loss: 0.2759 - accuracy: 0.8733\n",
      "Epoch 74/100\n",
      "750/750 [==============================] - 0s 39us/sample - loss: 0.2751 - accuracy: 0.8733\n",
      "Epoch 75/100\n",
      "750/750 [==============================] - 0s 41us/sample - loss: 0.2743 - accuracy: 0.8773\n",
      "Epoch 76/100\n",
      "750/750 [==============================] - 0s 41us/sample - loss: 0.2735 - accuracy: 0.8787\n",
      "Epoch 77/100\n",
      "750/750 [==============================] - 0s 40us/sample - loss: 0.2727 - accuracy: 0.8787\n",
      "Epoch 78/100\n"
     ]
    },
    {
     "name": "stdout",
     "output_type": "stream",
     "text": [
      "750/750 [==============================] - 0s 39us/sample - loss: 0.2720 - accuracy: 0.8787\n",
      "Epoch 79/100\n",
      "750/750 [==============================] - 0s 39us/sample - loss: 0.2713 - accuracy: 0.8813\n",
      "Epoch 80/100\n",
      "750/750 [==============================] - 0s 35us/sample - loss: 0.2706 - accuracy: 0.8813\n",
      "Epoch 81/100\n",
      "750/750 [==============================] - 0s 35us/sample - loss: 0.2700 - accuracy: 0.8827\n",
      "Epoch 82/100\n",
      "750/750 [==============================] - 0s 39us/sample - loss: 0.2694 - accuracy: 0.8853\n",
      "Epoch 83/100\n",
      "750/750 [==============================] - 0s 35us/sample - loss: 0.2688 - accuracy: 0.8880\n",
      "Epoch 84/100\n",
      "750/750 [==============================] - 0s 37us/sample - loss: 0.2682 - accuracy: 0.8880\n",
      "Epoch 85/100\n",
      "750/750 [==============================] - 0s 37us/sample - loss: 0.2677 - accuracy: 0.8880\n",
      "Epoch 86/100\n",
      "750/750 [==============================] - 0s 35us/sample - loss: 0.2670 - accuracy: 0.8880\n",
      "Epoch 87/100\n",
      "750/750 [==============================] - 0s 39us/sample - loss: 0.2666 - accuracy: 0.8893\n",
      "Epoch 88/100\n",
      "750/750 [==============================] - 0s 37us/sample - loss: 0.2660 - accuracy: 0.8893\n",
      "Epoch 89/100\n",
      "750/750 [==============================] - 0s 39us/sample - loss: 0.2655 - accuracy: 0.8907\n",
      "Epoch 90/100\n",
      "750/750 [==============================] - 0s 37us/sample - loss: 0.2651 - accuracy: 0.8907\n",
      "Epoch 91/100\n",
      "750/750 [==============================] - 0s 37us/sample - loss: 0.2647 - accuracy: 0.8907\n",
      "Epoch 92/100\n",
      "750/750 [==============================] - 0s 37us/sample - loss: 0.2642 - accuracy: 0.8933\n",
      "Epoch 93/100\n",
      "750/750 [==============================] - 0s 45us/sample - loss: 0.2638 - accuracy: 0.8933\n",
      "Epoch 94/100\n",
      "750/750 [==============================] - 0s 51us/sample - loss: 0.2634 - accuracy: 0.8933\n",
      "Epoch 95/100\n",
      "750/750 [==============================] - 0s 60us/sample - loss: 0.2630 - accuracy: 0.8933\n",
      "Epoch 96/100\n",
      "750/750 [==============================] - 0s 63us/sample - loss: 0.2626 - accuracy: 0.8933\n",
      "Epoch 97/100\n",
      "750/750 [==============================] - 0s 36us/sample - loss: 0.2622 - accuracy: 0.8933\n",
      "Epoch 98/100\n",
      "750/750 [==============================] - 0s 39us/sample - loss: 0.2619 - accuracy: 0.8933\n",
      "Epoch 99/100\n",
      "750/750 [==============================] - 0s 37us/sample - loss: 0.2615 - accuracy: 0.8933\n",
      "Epoch 100/100\n",
      "750/750 [==============================] - 0s 37us/sample - loss: 0.2612 - accuracy: 0.8933\n"
     ]
    }
   ],
   "source": [
    "# Training the model with the nonlinear data\n",
    "model_moon = nn_model.fit(X_moon_train_scaled, y_moon_train, epochs=100, shuffle=True)"
   ]
  },
  {
   "cell_type": "code",
   "execution_count": 40,
   "metadata": {
    "scrolled": true
   },
   "outputs": [
    {
     "data": {
      "text/plain": [
       "<matplotlib.axes._subplots.AxesSubplot at 0x1b1667ec288>"
      ]
     },
     "execution_count": 40,
     "metadata": {},
     "output_type": "execute_result"
    },
    {
     "data": {
      "image/png": "[encoded data removed]",
      "text/plain": [
       "<Figure size 432x288 with 1 Axes>"
      ]
     },
     "metadata": {
      "needs_background": "light"
     },
     "output_type": "display_data"
    }
   ],
   "source": [
    "# Create a DataFrame containing training history\n",
    "history_df = pd.DataFrame(model_moon.history, index=range(1,len(model_moon.history[\"loss\"])+1))\n",
    "\n",
    "# Plot the loss\n",
    "history_df.plot(y=\"loss\")"
   ]
  },
  {
   "cell_type": "code",
   "execution_count": 41,
   "metadata": {
    "scrolled": false
   },
   "outputs": [
    {
     "data": {
      "text/plain": [
       "<matplotlib.axes._subplots.AxesSubplot at 0x1b16684fa48>"
      ]
     },
     "execution_count": 41,
     "metadata": {},
     "output_type": "execute_result"
    },
    {
     "data": {
      "image/png": "[encoded data removed]",
      "text/plain": [
       "<Figure size 432x288 with 1 Axes>"
      ]
     },
     "metadata": {
      "needs_background": "light"
     },
     "output_type": "display_data"
    }
   ],
   "source": [
    "# Plot the loss\n",
    "history_df.plot(y=\"accuracy\")"
   ]
  },
  {
   "cell_type": "code",
   "execution_count": 42,
   "metadata": {},
   "outputs": [],
   "source": [
    "# Generate our new Sequential model\n",
    "new_model = keras.models.Sequential()"
   ]
  },
  {
   "cell_type": "code",
   "execution_count": 45,
   "metadata": {},
   "outputs": [],
   "source": [
    "# Add the input and hidden layer\n",
    "number_inputs = 2\n",
    "number_hidden_nodes = 6\n",
    "\n",
    "new_model.add(keras.layers.Dense(units=number_hidden_nodes, activation=\"relu\", input_dim=number_inputs))\n",
    "\n",
    "# Add the output layer that uses a probability activation function\n",
    "new_model.add(keras.layers.Dense(units=1, activation=\"sigmoid\"))"
   ]
  },
  {
   "cell_type": "code",
   "execution_count": 46,
   "metadata": {},
   "outputs": [
    {
     "name": "stdout",
     "output_type": "stream",
     "text": [
      "Train on 750 samples\n",
      "Epoch 1/100\n",
      "750/750 [==============================] - 1s 733us/sample - loss: 0.6763 - accuracy: 0.5867\n",
      "Epoch 2/100\n",
      "750/750 [==============================] - 0s 39us/sample - loss: 0.6428 - accuracy: 0.6147\n",
      "Epoch 3/100\n",
      "750/750 [==============================] - 0s 37us/sample - loss: 0.6142 - accuracy: 0.6547\n",
      "Epoch 4/100\n",
      "750/750 [==============================] - 0s 40us/sample - loss: 0.5876 - accuracy: 0.7013\n",
      "Epoch 5/100\n",
      "750/750 [==============================] - 0s 40us/sample - loss: 0.5619 - accuracy: 0.7653\n",
      "Epoch 6/100\n",
      "750/750 [==============================] - 0s 37us/sample - loss: 0.5373 - accuracy: 0.8307\n",
      "Epoch 7/100\n",
      "750/750 [==============================] - 0s 41us/sample - loss: 0.5134 - accuracy: 0.8520\n",
      "Epoch 8/100\n",
      "750/750 [==============================] - 0s 37us/sample - loss: 0.4910 - accuracy: 0.8680\n",
      "Epoch 9/100\n",
      "750/750 [==============================] - 0s 43us/sample - loss: 0.4695 - accuracy: 0.8773\n",
      "Epoch 10/100\n",
      "750/750 [==============================] - 0s 39us/sample - loss: 0.4495 - accuracy: 0.8787\n",
      "Epoch 11/100\n",
      "750/750 [==============================] - 0s 38us/sample - loss: 0.4308 - accuracy: 0.8800\n",
      "Epoch 12/100\n",
      "750/750 [==============================] - 0s 36us/sample - loss: 0.4133 - accuracy: 0.8840\n",
      "Epoch 13/100\n",
      "750/750 [==============================] - 0s 44us/sample - loss: 0.3970 - accuracy: 0.8827\n",
      "Epoch 14/100\n",
      "750/750 [==============================] - 0s 43us/sample - loss: 0.3825 - accuracy: 0.8840\n",
      "Epoch 15/100\n",
      "750/750 [==============================] - 0s 47us/sample - loss: 0.3689 - accuracy: 0.8853\n",
      "Epoch 16/100\n",
      "750/750 [==============================] - 0s 40us/sample - loss: 0.3567 - accuracy: 0.8853\n",
      "Epoch 17/100\n",
      "750/750 [==============================] - 0s 36us/sample - loss: 0.3456 - accuracy: 0.8840\n",
      "Epoch 18/100\n",
      "750/750 [==============================] - 0s 39us/sample - loss: 0.3358 - accuracy: 0.8840\n",
      "Epoch 19/100\n",
      "750/750 [==============================] - 0s 36us/sample - loss: 0.3267 - accuracy: 0.8840\n",
      "Epoch 20/100\n",
      "750/750 [==============================] - 0s 39us/sample - loss: 0.3185 - accuracy: 0.8840\n",
      "Epoch 21/100\n",
      "750/750 [==============================] - 0s 36us/sample - loss: 0.3113 - accuracy: 0.8853\n",
      "Epoch 22/100\n",
      "750/750 [==============================] - 0s 41us/sample - loss: 0.3047 - accuracy: 0.8853\n",
      "Epoch 23/100\n",
      "750/750 [==============================] - 0s 37us/sample - loss: 0.2990 - accuracy: 0.8853\n",
      "Epoch 24/100\n",
      "750/750 [==============================] - 0s 40us/sample - loss: 0.2936 - accuracy: 0.8867\n",
      "Epoch 25/100\n",
      "750/750 [==============================] - 0s 43us/sample - loss: 0.2890 - accuracy: 0.8893\n",
      "Epoch 26/100\n",
      "750/750 [==============================] - 0s 41us/sample - loss: 0.2847 - accuracy: 0.8893\n",
      "Epoch 27/100\n",
      "750/750 [==============================] - 0s 37us/sample - loss: 0.2807 - accuracy: 0.8893\n",
      "Epoch 28/100\n",
      "750/750 [==============================] - 0s 39us/sample - loss: 0.2773 - accuracy: 0.8893\n",
      "Epoch 29/100\n",
      "750/750 [==============================] - 0s 43us/sample - loss: 0.2743 - accuracy: 0.8907\n",
      "Epoch 30/100\n",
      "750/750 [==============================] - 0s 45us/sample - loss: 0.2715 - accuracy: 0.8907\n",
      "Epoch 31/100\n",
      "750/750 [==============================] - 0s 39us/sample - loss: 0.2691 - accuracy: 0.8920\n",
      "Epoch 32/100\n",
      "750/750 [==============================] - 0s 44us/sample - loss: 0.2667 - accuracy: 0.8920\n",
      "Epoch 33/100\n",
      "750/750 [==============================] - 0s 51us/sample - loss: 0.2647 - accuracy: 0.8933\n",
      "Epoch 34/100\n",
      "750/750 [==============================] - 0s 43us/sample - loss: 0.2627 - accuracy: 0.8933\n",
      "Epoch 35/100\n",
      "750/750 [==============================] - 0s 41us/sample - loss: 0.2609 - accuracy: 0.8933\n",
      "Epoch 36/100\n",
      "750/750 [==============================] - 0s 44us/sample - loss: 0.2593 - accuracy: 0.8920\n",
      "Epoch 37/100\n",
      "750/750 [==============================] - 0s 44us/sample - loss: 0.2579 - accuracy: 0.8933\n",
      "Epoch 38/100\n",
      "750/750 [==============================] - 0s 45us/sample - loss: 0.2565 - accuracy: 0.8933\n",
      "Epoch 39/100\n",
      "750/750 [==============================] - 0s 44us/sample - loss: 0.2551 - accuracy: 0.8933\n",
      "Epoch 40/100\n",
      "750/750 [==============================] - 0s 43us/sample - loss: 0.2541 - accuracy: 0.8933\n",
      "Epoch 41/100\n",
      "750/750 [==============================] - 0s 51us/sample - loss: 0.2530 - accuracy: 0.8933\n",
      "Epoch 42/100\n",
      "750/750 [==============================] - 0s 47us/sample - loss: 0.2520 - accuracy: 0.8933\n",
      "Epoch 43/100\n",
      "750/750 [==============================] - 0s 41us/sample - loss: 0.2511 - accuracy: 0.8933\n",
      "Epoch 44/100\n",
      "750/750 [==============================] - 0s 36us/sample - loss: 0.2503 - accuracy: 0.8933\n",
      "Epoch 45/100\n",
      "750/750 [==============================] - 0s 39us/sample - loss: 0.2495 - accuracy: 0.8947\n",
      "Epoch 46/100\n",
      "750/750 [==============================] - 0s 53us/sample - loss: 0.2488 - accuracy: 0.8947\n",
      "Epoch 47/100\n",
      "750/750 [==============================] - 0s 55us/sample - loss: 0.2482 - accuracy: 0.8920\n",
      "Epoch 48/100\n",
      "750/750 [==============================] - 0s 55us/sample - loss: 0.2474 - accuracy: 0.8920\n",
      "Epoch 49/100\n",
      "750/750 [==============================] - 0s 56us/sample - loss: 0.2468 - accuracy: 0.8920\n",
      "Epoch 50/100\n",
      "750/750 [==============================] - 0s 52us/sample - loss: 0.2463 - accuracy: 0.8920\n",
      "Epoch 51/100\n",
      "750/750 [==============================] - 0s 48us/sample - loss: 0.2457 - accuracy: 0.8920\n",
      "Epoch 52/100\n",
      "750/750 [==============================] - 0s 40us/sample - loss: 0.2452 - accuracy: 0.8920\n",
      "Epoch 53/100\n",
      "750/750 [==============================] - 0s 47us/sample - loss: 0.2447 - accuracy: 0.8920\n",
      "Epoch 54/100\n",
      "750/750 [==============================] - 0s 35us/sample - loss: 0.2442 - accuracy: 0.8920\n",
      "Epoch 55/100\n",
      "750/750 [==============================] - 0s 41us/sample - loss: 0.2437 - accuracy: 0.8920\n",
      "Epoch 56/100\n",
      "750/750 [==============================] - 0s 36us/sample - loss: 0.2434 - accuracy: 0.8920\n",
      "Epoch 57/100\n",
      "750/750 [==============================] - 0s 36us/sample - loss: 0.2430 - accuracy: 0.8920\n",
      "Epoch 58/100\n",
      "750/750 [==============================] - 0s 36us/sample - loss: 0.2424 - accuracy: 0.8947\n",
      "Epoch 59/100\n",
      "750/750 [==============================] - 0s 39us/sample - loss: 0.2421 - accuracy: 0.8947\n",
      "Epoch 60/100\n",
      "750/750 [==============================] - 0s 39us/sample - loss: 0.2415 - accuracy: 0.8947\n",
      "Epoch 61/100\n",
      "750/750 [==============================] - 0s 37us/sample - loss: 0.2412 - accuracy: 0.8947\n",
      "Epoch 62/100\n",
      "750/750 [==============================] - 0s 43us/sample - loss: 0.2407 - accuracy: 0.8947\n",
      "Epoch 63/100\n",
      "750/750 [==============================] - 0s 40us/sample - loss: 0.2403 - accuracy: 0.8947\n",
      "Epoch 64/100\n",
      "750/750 [==============================] - 0s 39us/sample - loss: 0.2400 - accuracy: 0.8947\n",
      "Epoch 65/100\n",
      "750/750 [==============================] - 0s 44us/sample - loss: 0.2395 - accuracy: 0.8947\n",
      "Epoch 66/100\n",
      "750/750 [==============================] - 0s 44us/sample - loss: 0.2392 - accuracy: 0.8960\n",
      "Epoch 67/100\n",
      "750/750 [==============================] - 0s 41us/sample - loss: 0.2388 - accuracy: 0.8960\n",
      "Epoch 68/100\n",
      "750/750 [==============================] - 0s 45us/sample - loss: 0.2384 - accuracy: 0.8973\n",
      "Epoch 69/100\n",
      "750/750 [==============================] - 0s 40us/sample - loss: 0.2382 - accuracy: 0.8973\n",
      "Epoch 70/100\n",
      "750/750 [==============================] - 0s 47us/sample - loss: 0.2377 - accuracy: 0.8973\n",
      "Epoch 71/100\n",
      "750/750 [==============================] - 0s 48us/sample - loss: 0.2373 - accuracy: 0.8973\n",
      "Epoch 72/100\n",
      "750/750 [==============================] - 0s 48us/sample - loss: 0.2370 - accuracy: 0.8973\n",
      "Epoch 73/100\n",
      "750/750 [==============================] - 0s 43us/sample - loss: 0.2367 - accuracy: 0.8973\n",
      "Epoch 74/100\n",
      "750/750 [==============================] - 0s 48us/sample - loss: 0.2363 - accuracy: 0.8973\n",
      "Epoch 75/100\n",
      "750/750 [==============================] - 0s 47us/sample - loss: 0.2359 - accuracy: 0.8973\n",
      "Epoch 76/100\n",
      "750/750 [==============================] - 0s 41us/sample - loss: 0.2355 - accuracy: 0.8973\n",
      "Epoch 77/100\n",
      "750/750 [==============================] - 0s 44us/sample - loss: 0.2352 - accuracy: 0.8960\n",
      "Epoch 78/100\n"
     ]
    },
    {
     "name": "stdout",
     "output_type": "stream",
     "text": [
      "750/750 [==============================] - 0s 40us/sample - loss: 0.2349 - accuracy: 0.8973\n",
      "Epoch 79/100\n",
      "750/750 [==============================] - 0s 49us/sample - loss: 0.2344 - accuracy: 0.8973\n",
      "Epoch 80/100\n",
      "750/750 [==============================] - 0s 48us/sample - loss: 0.2341 - accuracy: 0.8987\n",
      "Epoch 81/100\n",
      "750/750 [==============================] - 0s 51us/sample - loss: 0.2339 - accuracy: 0.9000\n",
      "Epoch 82/100\n",
      "750/750 [==============================] - 0s 47us/sample - loss: 0.2335 - accuracy: 0.9000\n",
      "Epoch 83/100\n",
      "750/750 [==============================] - 0s 44us/sample - loss: 0.2331 - accuracy: 0.9000\n",
      "Epoch 84/100\n",
      "750/750 [==============================] - 0s 44us/sample - loss: 0.2329 - accuracy: 0.9013\n",
      "Epoch 85/100\n",
      "750/750 [==============================] - 0s 41us/sample - loss: 0.2325 - accuracy: 0.9013\n",
      "Epoch 86/100\n",
      "750/750 [==============================] - 0s 40us/sample - loss: 0.2323 - accuracy: 0.9013\n",
      "Epoch 87/100\n",
      "750/750 [==============================] - 0s 40us/sample - loss: 0.2319 - accuracy: 0.9013\n",
      "Epoch 88/100\n",
      "750/750 [==============================] - 0s 44us/sample - loss: 0.2316 - accuracy: 0.9013\n",
      "Epoch 89/100\n",
      "750/750 [==============================] - 0s 47us/sample - loss: 0.2313 - accuracy: 0.9000\n",
      "Epoch 90/100\n",
      "750/750 [==============================] - 0s 40us/sample - loss: 0.2309 - accuracy: 0.9013\n",
      "Epoch 91/100\n",
      "750/750 [==============================] - 0s 49us/sample - loss: 0.2306 - accuracy: 0.9013\n",
      "Epoch 92/100\n",
      "750/750 [==============================] - 0s 37us/sample - loss: 0.2303 - accuracy: 0.9013\n",
      "Epoch 93/100\n",
      "750/750 [==============================] - 0s 43us/sample - loss: 0.2300 - accuracy: 0.9013\n",
      "Epoch 94/100\n",
      "750/750 [==============================] - 0s 45us/sample - loss: 0.2297 - accuracy: 0.9013\n",
      "Epoch 95/100\n",
      "750/750 [==============================] - 0s 41us/sample - loss: 0.2295 - accuracy: 0.9013\n",
      "Epoch 96/100\n",
      "750/750 [==============================] - 0s 53us/sample - loss: 0.2292 - accuracy: 0.9013\n",
      "Epoch 97/100\n",
      "750/750 [==============================] - 0s 44us/sample - loss: 0.2288 - accuracy: 0.9013\n",
      "Epoch 98/100\n",
      "750/750 [==============================] - 0s 69us/sample - loss: 0.2286 - accuracy: 0.9013\n",
      "Epoch 99/100\n",
      "750/750 [==============================] - 0s 52us/sample - loss: 0.2284 - accuracy: 0.9013\n",
      "Epoch 100/100\n",
      "750/750 [==============================] - 0s 56us/sample - loss: 0.2281 - accuracy: 0.9013\n"
     ]
    }
   ],
   "source": [
    "# Compile the Sequential model together and customize metrics\n",
    "new_model.compile(loss=\"binary_crossentropy\", optimizer=\"adam\", metrics=[\"accuracy\"])\n",
    "\n",
    "# Fit the model to the training data\n",
    "new_fit_model = new_model.fit(X_moon_train_scaled, y_moon_train, epochs=100, shuffle=True)"
   ]
  }
 ],
 "metadata": {
  "kernelspec": {
   "display_name": "PythonData",
   "language": "python",
   "name": "pythondata"
  },
  "language_info": {
   "codemirror_mode": {
    "name": "ipython",
    "version": 3
   },
   "file_extension": ".py",
   "mimetype": "text/x-python",
   "name": "python",
   "nbconvert_exporter": "python",
   "pygments_lexer": "ipython3",
   "version": "3.7.4"
  }
 },
 "nbformat": 4,
 "nbformat_minor": 2
}
